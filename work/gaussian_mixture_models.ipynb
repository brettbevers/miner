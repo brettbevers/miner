{
 "cells": [
  {
   "cell_type": "code",
   "execution_count": 6,
   "metadata": {},
   "outputs": [],
   "source": [
    "%matplotlib inline\n",
    "from matplotlib import pyplot\n",
    "import numpy as np\n",
    "from functools import reduce\n",
    "from scipy.stats import norm\n",
    "from pyspark.mllib.linalg import Vectors\n",
    "from pyspark.mllib.clustering import GaussianMixture\n",
    "\n",
    "import gmm.model"
   ]
  },
  {
   "cell_type": "code",
   "execution_count": 2,
   "metadata": {},
   "outputs": [
    {
     "data": {
      "text/plain": [
       "<module 'gmm.gaussian_mixture_model' from '/usr/local/spark/python/gmm/gaussian_mixture_model.py'>"
      ]
     },
     "execution_count": 2,
     "metadata": {},
     "output_type": "execute_result"
    }
   ],
   "source": [
    "import importlib\n",
    "importlib.reload(gmm.model)"
   ]
  },
  {
   "cell_type": "code",
   "execution_count": 11,
   "metadata": {},
   "outputs": [],
   "source": [
    "import pyspark\n",
    "sc = pyspark.SparkContext('local[*]')"
   ]
  },
  {
   "cell_type": "code",
   "execution_count": 7,
   "metadata": {},
   "outputs": [],
   "source": [
    "def svd_pinv(m):\n",
    "  U,s,Vh = np.linalg.svd(m)\n",
    "  s_inv = np.diag(np.power(s,-1))\n",
    "  m_inv = np.matmul(np.matmul(np.transpose(Vh), s_inv), np.transpose(U))\n",
    "  return m_inv\n",
    "\n",
    "def shuffle(*dfs):\n",
    "  dataset = reduce(lambda a,b: np.append(a, b, axis=0), dfs)\n",
    "  # Generate the permutation index array.\n",
    "  permutation = np.random.permutation(dataset.shape[0])\n",
    "  # Shuffle dataset by giving the permutation in the square brackets.\n",
    "  shuffled = dataset[permutation]\n",
    "  return shuffled"
   ]
  },
  {
   "cell_type": "code",
   "execution_count": 8,
   "metadata": {},
   "outputs": [],
   "source": [
    "from gmm.model import zero_off_diagonal, remove_dim\n",
    "\n",
    "def visualize_model(model, x_dim=0, y_dim=1, n=10000, cluster=None):\n",
    "    if cluster is not None:\n",
    "        counts = [n]\n",
    "        gaussians = [model.gaussians[cluster]]\n",
    "    else:\n",
    "        total_weight = sum(model.weights)\n",
    "        counts = [int((w / total_weight) * n) for w in model.weights]\n",
    "        gaussians = model.gaussians\n",
    "\n",
    "    d = reduce(lambda a, b: np.append(a, b, axis=0),\n",
    "               [np.random.multivariate_normal(g.mu, g.sigma, c) for c, g in zip(counts, gaussians)])\n",
    "    x = [r[x_dim] for r in d]\n",
    "    y = [r[y_dim] for r in d]\n",
    "    pyplot.scatter(x, y)\n",
    "\n",
    "\n",
    "def visualize_null_2(model, null_dim, x_dim=0, y_dim=1, n=10000, cluster=None):\n",
    "    if cluster is not None:\n",
    "        counts = [n]\n",
    "        gaussians = [model.gaussians[cluster]]\n",
    "    else:\n",
    "        total_weight = sum(model.weights)\n",
    "        counts = [int((w / total_weight) * n) for w in model.weights]\n",
    "        gaussians = model.gaussians\n",
    "\n",
    "    mus = [g.mu for g in gaussians]\n",
    "    sigmas = [zero_off_diagonal(g.sigma, [null_dim]) for g in gaussians]\n",
    "    d = reduce(lambda a, b: np.append(a, b, axis=0),\n",
    "               [np.random.multivariate_normal(mu, sigma, c) for c, mu, sigma in zip(counts, mus, sigmas)])\n",
    "    x = [r[x_dim] for r in d]\n",
    "    y = [r[y_dim] for r in d]\n",
    "    pyplot.scatter(x, y)\n",
    "\n",
    "\n",
    "def visualize_null_1(model, null_dim, x_dim=0, y_dim=1, n=10000, cluster=None):\n",
    "    if cluster is not None:\n",
    "        counts = [n]\n",
    "        gaussians = [model.gaussians[cluster]]\n",
    "    else:\n",
    "        total_weight = sum(model.weights)\n",
    "        counts = [int((w / total_weight) * n) for w in model.weights]\n",
    "        gaussians = model.gaussians\n",
    "\n",
    "    mus = [(np.delete(g.mu, null_dim), np.array([g.mu[null_dim]])) for g in gaussians]\n",
    "    sigmas = [(remove_dim(g.sigma, null_dim), np.array([[g.sigma[null_dim][null_dim]]])) for g in gaussians]\n",
    "\n",
    "    a = [(np.random.multivariate_normal(mu[0], sigma[0], c), np.random.multivariate_normal(mu[1], sigma[1], c))\n",
    "         for c, mu, sigma in zip(counts, mus, sigmas)]\n",
    "    d = [np.append(np.append(other_vec[:null_dim], null_vec, axis=0), other_vec[null_dim:], axis=0)\n",
    "         for other_dims_ds, null_dim_ds in a\n",
    "         for other_vec, null_vec in zip(other_dims_ds, null_dim_ds)]\n",
    "\n",
    "    x = [r[x_dim] for r in d]\n",
    "    y = [r[y_dim] for r in d]\n",
    "    pyplot.scatter(x, y)\n",
    "\n",
    "\n",
    "def visualize_null_3(model, null_dim, x_dim=0, y_dim=1, n=10000, cluster=None):\n",
    "    if cluster is not None:\n",
    "        counts = [n]\n",
    "        gaussians = [model.gaussians[cluster]]\n",
    "    else:\n",
    "        total_weight = sum(model.weights)\n",
    "        counts = [int((w / total_weight) * n) for w in model.weights]\n",
    "        gaussians = model.gaussians\n",
    "\n",
    "    other_dims_ds = reduce(lambda a, b: np.append(a, b, axis=0),\n",
    "                           [np.random.multivariate_normal(np.delete(g.mu, null_dim), remove_dim(g.sigma, null_dim), c)\n",
    "                            for c, g in zip(counts, gaussians)])\n",
    "\n",
    "    null_dim_ds = shuffle(reduce(lambda a, b: np.append(a, b, axis=0),\n",
    "        [np.random.multivariate_normal(np.array([g.mu[null_dim]]), np.array([[g.sigma[null_dim][null_dim]]]), c)\n",
    "         for c, g in zip(counts, gaussians)]))\n",
    "    \n",
    "    d = [np.append(np.append(other_vec[:null_dim], null_vec, axis=0), other_vec[null_dim:], axis=0)\n",
    "         for other_vec, null_vec in zip(other_dims_ds, null_dim_ds)]\n",
    "\n",
    "    x = [r[x_dim] for r in d]\n",
    "    y = [r[y_dim] for r in d]\n",
    "    pyplot.scatter(x, y)\n"
   ]
  },
  {
   "cell_type": "code",
   "execution_count": 12,
   "metadata": {
    "collapsed": false
   },
   "outputs": [
    {
     "name": "stdout",
     "output_type": "stream",
     "text": [
      "GMMStats(log_likelihood=-6135099.3898005672, null_log_likelihoods=array([-6148102.53765036, -6209229.75145656, -6203852.21231251,\n       -6119130.06542205]), p_values=[0.0, 0.0, 0.0, 1.0])\n"
     ]
    }
   ],
   "source": [
    "unit = 0.50\n",
    "on = unit * 0.1\n",
    "off = unit * 0.00\n",
    "\n",
    "\n",
    "def generate_cluster(unit, cross_cov, mu, count):\n",
    "    mu = np.array(mu)\n",
    "    sigma_1, sigma_2, sigma_3 = unit, unit, unit\n",
    "    sigma_1_2, sigma_1_3, sigma_2_3 = cross_cov\n",
    "    cov = np.array([\n",
    "      [sigma_1, sigma_1_2, sigma_1_3],\n",
    "      [sigma_1_2, sigma_2, sigma_2_3],\n",
    "      [sigma_1_3, sigma_2_3, sigma_3]\n",
    "    ])\n",
    "    ds = np.random.multivariate_normal(mu, cov, count)\n",
    "    return ds\n",
    "\n",
    "\n",
    "def reduce_correlation(ds, noise):\n",
    "    count = ds.shape[0]\n",
    "    ds_t = ds.T\n",
    "    for i, x in enumerate(noise):\n",
    "        num = int(count*x)\n",
    "        ds_t[i].put(np.random.choice(count, num, replace=False), np.random.choice(ds.T[i], num))\n",
    "    return ds_t.T\n",
    "\n",
    "\n",
    "rv1 = generate_cluster(unit, (on, -off, off), [2,0,0], 25000) \n",
    "rv2 = generate_cluster(unit, (on, off, -off), [0,0,2], 50000)\n",
    "rv3 = generate_cluster(unit, (-on, off, off), [0,2,0], 50000)\n",
    "rv4 = generate_cluster(unit, (-on, -off, -off), [-1,-1,-1], 1000000)\n",
    "\n",
    "independent_rvs = [norm(loc=-1.0, scale=2.0), norm(loc=0.0, scale=0.5), \n",
    "                   norm(loc=-1.0, scale=1.0), norm(loc=2.0, scale=0.5)]\n",
    "\n",
    "error = norm(loc=0, scale=0.05)\n",
    "\n",
    "\n",
    "def gen_error():\n",
    "    return np.array([error.rvs(), error.rvs(), error.rvs()])\n",
    "\n",
    "\n",
    "data = reduce_correlation(shuffle(rv1, rv2, rv3, rv4), [0.55, 0.0, 0.0])\n",
    "data = sc.parallelize([Vectors.dense(np.append(x, independent_rvs[np.random.randint(0, 2)].rvs())) \n",
    "                       for x in data])\n",
    "\n",
    "modeling_service = gmm.model.ModelingService(data)\n",
    "full_model = modeling_service.get_gmm(4, range(4), max_iterations=200)\n",
    "print(full_model.stats(modeling_service))"
   ]
  },
  {
   "cell_type": "code",
   "execution_count": 4,
   "metadata": {},
   "outputs": [
    {
     "ename": "NameError",
     "evalue": "name 'data' is not defined",
     "traceback": [
      "\u001b[0;31m---------------------------------------------------------------------------\u001b[0m",
      "\u001b[0;31mNameError\u001b[0m                                 Traceback (most recent call last)",
      "\u001b[0;32m<ipython-input-4-049a33e4e013>\u001b[0m in \u001b[0;36m<module>\u001b[0;34m()\u001b[0m\n\u001b[0;32m----> 1\u001b[0;31m \u001b[0mx\u001b[0m \u001b[0;34m=\u001b[0m \u001b[0mdata\u001b[0m\u001b[0;34m.\u001b[0m\u001b[0mmap\u001b[0m\u001b[0;34m(\u001b[0m\u001b[0;32mlambda\u001b[0m \u001b[0mv\u001b[0m\u001b[0;34m:\u001b[0m \u001b[0mv\u001b[0m\u001b[0;34m[\u001b[0m\u001b[0;36m0\u001b[0m\u001b[0;34m]\u001b[0m\u001b[0;34m)\u001b[0m\u001b[0;34m.\u001b[0m\u001b[0mcollect\u001b[0m\u001b[0;34m(\u001b[0m\u001b[0;34m)\u001b[0m\u001b[0;34m\u001b[0m\u001b[0m\n\u001b[0m\u001b[1;32m      2\u001b[0m \u001b[0my\u001b[0m \u001b[0;34m=\u001b[0m \u001b[0mdata\u001b[0m\u001b[0;34m.\u001b[0m\u001b[0mmap\u001b[0m\u001b[0;34m(\u001b[0m\u001b[0;32mlambda\u001b[0m \u001b[0mv\u001b[0m\u001b[0;34m:\u001b[0m \u001b[0mv\u001b[0m\u001b[0;34m[\u001b[0m\u001b[0;36m1\u001b[0m\u001b[0;34m]\u001b[0m\u001b[0;34m)\u001b[0m\u001b[0;34m.\u001b[0m\u001b[0mcollect\u001b[0m\u001b[0;34m(\u001b[0m\u001b[0;34m)\u001b[0m\u001b[0;34m\u001b[0m\u001b[0m\n\u001b[1;32m      3\u001b[0m \u001b[0mpyplot\u001b[0m\u001b[0;34m.\u001b[0m\u001b[0mscatter\u001b[0m\u001b[0;34m(\u001b[0m\u001b[0mx\u001b[0m\u001b[0;34m,\u001b[0m\u001b[0my\u001b[0m\u001b[0;34m)\u001b[0m\u001b[0;34m\u001b[0m\u001b[0m\n",
      "\u001b[0;31mNameError\u001b[0m: name 'data' is not defined"
     ],
     "output_type": "error"
    }
   ],
   "source": [
    "x = data.map(lambda v: v[0]).collect()\n",
    "y = data.map(lambda v: v[1]).collect()\n",
    "pyplot.scatter(x,y)"
   ]
  },
  {
   "cell_type": "code",
   "execution_count": 45,
   "metadata": {},
   "outputs": [
    {
     "data": {
      "image/png": "[encoded data removed]",
      "text/plain": [
       "<matplotlib.figure.Figure at 0x7fcc1eff87f0>"
      ]
     },
     "metadata": {},
     "output_type": "display_data"
    }
   ],
   "source": [
    "visualize_model(full_model, n=100000)"
   ]
  },
  {
   "cell_type": "code",
   "execution_count": 46,
   "metadata": {},
   "outputs": [
    {
     "data": {
      "image/png": "[encoded data removed]",
      "text/plain": [
       "<matplotlib.figure.Figure at 0x7fcc1f02b160>"
      ]
     },
     "metadata": {},
     "output_type": "display_data"
    }
   ],
   "source": [
    "visualize_null_3(full_model, 1, n=100000)"
   ]
  },
  {
   "cell_type": "markdown",
   "metadata": {},
   "source": [
    "## K-tuning using gain in log likelihood"
   ]
  },
  {
   "cell_type": "code",
   "execution_count": 9,
   "metadata": {},
   "outputs": [
    {
     "name": "stdout",
     "output_type": "stream",
     "text": [
      "[-1723816.10335661 -1747573.61591564 -1771145.70119122 -1836063.98274143\n",
      " -1732033.37785021]\n",
      "[-1717323.26246946 -1736159.09863704 -1760731.6902329  -1796214.69778217\n",
      " -1725543.57114666]\n",
      "[-1708273.86395669 -1728519.89911291 -1752688.87935763 -1787765.25047603\n",
      " -1719713.65675741]\n",
      "[-1706533.35247959 -1726828.06132709 -1750113.70107617 -1786175.64347773\n",
      " -1725114.70673793]\n",
      "[-1706011.7220369  -1720825.28024652 -1741035.35396039 -1785879.88761325\n",
      " -1725339.53707599]\n",
      "[-1706082.68663437 -1715871.1711803  -1741389.99941415 -1785697.86229021\n",
      " -1721345.32757171]\n",
      "[-1705940.54106405 -1724328.70622291 -1737042.71467506 -1776218.1951313\n",
      " -1722193.62831841]\n",
      "[-1705682.07881474 -1721515.1642646  -1740796.71936625 -1779473.67427251\n",
      " -1721668.05907534]\n",
      "[-1705674.24507534 -1722362.78743711 -1737962.38261963 -1766601.10673732\n",
      " -1722486.88601074]\n"
     ]
    }
   ],
   "source": [
    "from pyspark.sql import Row\n",
    "\n",
    "models = []\n",
    "results = []\n",
    "n = data.count()\n",
    "d = 4\n",
    "for i in range(1,10):\n",
    "  model = GaussianMixture.train(data, i)\n",
    "  models.append(model)\n",
    "  ll, p_values = log_likelihood_2(model, data)\n",
    "  p = float((d*(d+1)/2.0)*i + i)\n",
    "  bic = float(np.log(n)*p - 2*ll)\n",
    "  aic = float(2*p - 2*ll)\n",
    "  results.append(Row(k=i, ll=float(ll), bic=bic, aic=aic, p_values=[float(p) for p in p_values]))"
   ]
  },
  {
   "cell_type": "code",
   "execution_count": 10,
   "metadata": {},
   "outputs": [
    {
     "name": "stdout",
     "output_type": "stream",
     "text": [
      "[0.0, 0.0, 0.0, 8.1402331507547386e-214, 1.0, 2.211169486216714e-52, 2.3904611078300201e-101, 0.33409984487413497]\n"
     ]
    }
   ],
   "source": [
    "p_values = [chi2.sf(-2*(results[i-1].ll - results[i].ll), df=d*(d+3)/2.0) for i in range(1, len(results))]\n",
    "print(p_values)"
   ]
  },
  {
   "cell_type": "code",
   "execution_count": 11,
   "metadata": {},
   "outputs": [
    {
     "data": {
      "text/plain": [
       "[-6492.840887148166,\n",
       " -9049.398512767628,\n",
       " -1740.511477104621,\n",
       " -521.6304426859133,\n",
       " 70.9645974682644,\n",
       " -142.1455703151878,\n",
       " -258.462249313714,\n",
       " -7.833739404100925]"
      ]
     },
     "execution_count": 11,
     "metadata": {},
     "output_type": "execute_result"
    }
   ],
   "source": [
    "[results[i-1].ll - results[i].ll for i in range(1, len(results))]"
   ]
  },
  {
   "cell_type": "code",
   "execution_count": 12,
   "metadata": {},
   "outputs": [],
   "source": [
    "display(results)"
   ]
  },
  {
   "cell_type": "code",
   "execution_count": 13,
   "metadata": {},
   "outputs": [],
   "source": []
  },
  {
   "cell_type": "markdown",
   "metadata": {},
   "source": [
    "## P-value estimate using Likelihood Ratio Test"
   ]
  },
  {
   "cell_type": "code",
   "execution_count": 15,
   "metadata": {},
   "outputs": [],
   "source": [
    "model = GaussianMixture.train(data, 4)"
   ]
  },
  {
   "cell_type": "code",
   "execution_count": 16,
   "metadata": {},
   "outputs": [],
   "source": [
    "log_likelihood_1(model, data)"
   ]
  },
  {
   "cell_type": "code",
   "execution_count": 17,
   "metadata": {},
   "outputs": [],
   "source": [
    "log_likelihood_2(model, data)"
   ]
  },
  {
   "cell_type": "code",
   "execution_count": 18,
   "metadata": {},
   "outputs": [],
   "source": [
    "from pyspark.sql import Row\n",
    "\n",
    "results = []\n",
    "d = 4\n",
    "for i in range(2,10):\n",
    "  model = GaussianMixture.train(data, 3)\n",
    "  ll, p_values = log_likelihood(model, data)\n",
    "  p = float((d*(d+1)/2.0)*i + i)\n",
    "  n = 45000.0\n",
    "  bic = float(np.log(n)*p - 2*ll)\n",
    "  aic = float(2*p - 2*ll)\n",
    "  results.append(Row(k=i, ll=float(ll), bic=bic, aic=aic, p_values=[float(p) for p in p_values]))"
   ]
  },
  {
   "cell_type": "code",
   "execution_count": 19,
   "metadata": {},
   "outputs": [],
   "source": [
    "results"
   ]
  },
  {
   "cell_type": "code",
   "execution_count": 20,
   "metadata": {},
   "outputs": [],
   "source": [
    "d = 4\n",
    "i, j = 0, 2\n",
    "\n",
    "chi2.sf(-2 * (results[i].ll - results[j].ll), df=(j-i)*(d*(d+3)/2))"
   ]
  },
  {
   "cell_type": "code",
   "execution_count": 21,
   "metadata": {},
   "outputs": [],
   "source": [
    "display(results)"
   ]
  },
  {
   "cell_type": "code",
   "execution_count": 22,
   "metadata": {},
   "outputs": [],
   "source": []
  }
 ],
 "metadata": {
  "kernelspec": {
   "display_name": "Python 3",
   "language": "python",
   "name": "python3"
  },
  "language_info": {
   "codemirror_mode": {
    "name": "ipython",
    "version": 3
   },
   "file_extension": ".py",
   "mimetype": "text/x-python",
   "name": "python",
   "nbconvert_exporter": "python",
   "pygments_lexer": "ipython3",
   "version": "3.6.3"
  },
  "name": "gaussian_mixture_models",
  "notebookId": 1154256.0
 },
 "nbformat": 4,
 "nbformat_minor": 1
}
