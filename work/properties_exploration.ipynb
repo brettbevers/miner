{
 "cells": [
  {
   "cell_type": "code",
   "execution_count": 3,
   "metadata": {
    "collapsed": true
   },
   "outputs": [],
   "source": [
    "import pyspark\n",
    "sc = pyspark.SparkContext('local[*]')\n",
    "spark = pyspark.sql.SparkSession(sc)"
   ]
  },
  {
   "cell_type": "code",
   "execution_count": 9,
   "metadata": {},
   "outputs": [],
   "source": [
    "properties = spark.read.csv('work/properties.csv', header=True)"
   ]
  },
  {
   "cell_type": "code",
   "execution_count": 15,
   "metadata": {
    "collapsed": false
   },
   "outputs": [
    {
     "name": "stdout",
     "output_type": "stream",
     "text": [
      "+---+---+-------+-----------+------------+------------+-----------------+--------------------+-------------+---------------+--------------+--------------------+----------------------+-----------------+--------------------+---------+----------+--------------------+----------+\n|_c0|age|bldg_sf|   coverage|land_area_sf|price_per_sf|price_per_sf_land|    property_address|property_city|property_county|property_state|property_street_name|property_street_number|property_zip_code|        propertytype|sale_date|sale_price|      submarket_name|year_built|\n+---+---+-------+-----------+------------+------------+-----------------+--------------------+-------------+---------------+--------------+--------------------+----------------------+-----------------+--------------------+---------+----------+--------------------+----------+\n|  0| 52|  25308| 0.24625624|      102771|     2370.23|           583.68|3880-3896 Cross C...|       Malibu|    Los Angeles|            CA|      Cross Creek Rd|                  3880|            90265|Retail (Neighborh...|  5/27/14|  59985779|Pacific Palisades...|      1966|\n|  1| 46|  17116|0.242549634|       70567|     2370.23|            574.9|3822-3844 Cross C...|       Malibu|    Los Angeles|            CA|      Cross Creek Rd|                  3822|            90265|Retail (Neighborh...|  5/27/14|  40568855|Pacific Palisades...|      1972|\n+---+---+-------+-----------+------------+------------+-----------------+--------------------+-------------+---------------+--------------+--------------------+----------------------+-----------------+--------------------+---------+----------+--------------------+----------+\nonly showing top 2 rows\n\n"
     ]
    }
   ],
   "source": [
    "properties.show(2)"
   ]
  },
  {
   "cell_type": "code",
   "execution_count": 22,
   "metadata": {
    "collapsed": false
   },
   "outputs": [
    {
     "data": {
      "text/plain": [
       "[Row(propertytype='Industrial'),\n Row(propertytype='Multi-Family (Strip Center)'),\n Row(propertytype='Office'),\n Row(propertytype='Office (Neighborhood Center)'),\n Row(propertytype='Office (Strip Center)'),\n Row(propertytype='Retail'),\n Row(propertytype='Retail (Community Center)'),\n Row(propertytype='Retail (Neighborhood Center)'),\n Row(propertytype='Retail (Power Center)'),\n Row(propertytype='Retail (Strip Center)'),\n Row(propertytype='Retail (Super Regional Mall)')]"
      ]
     },
     "execution_count": 22,
     "metadata": {},
     "output_type": "execute_result"
    }
   ],
   "source": [
    "properties.select('propertytype').sort('propertytype').distinct().collect()"
   ]
  },
  {
   "cell_type": "code",
   "execution_count": 18,
   "metadata": {},
   "outputs": [
    {
     "data": {
      "text/plain": [
       "356"
      ]
     },
     "execution_count": 18,
     "metadata": {},
     "output_type": "execute_result"
    }
   ],
   "source": [
    "properties.count()"
   ]
  },
  {
   "cell_type": "code",
   "execution_count": null,
   "metadata": {},
   "outputs": [],
   "source": []
  }
 ],
 "metadata": {
  "kernelspec": {
   "display_name": "Python 2",
   "language": "python",
   "name": "python2"
  },
  "language_info": {
   "codemirror_mode": {
    "name": "ipython",
    "version": 2
   },
   "file_extension": ".py",
   "mimetype": "text/x-python",
   "name": "python",
   "nbconvert_exporter": "python",
   "pygments_lexer": "ipython2",
   "version": "2.7.6"
  }
 },
 "nbformat": 4,
 "nbformat_minor": 0
}
