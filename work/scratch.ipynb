{
 "cells": [
  {
   "cell_type": "code",
   "execution_count": 1,
   "metadata": {
    "collapsed": true
   },
   "outputs": [],
   "source": [
    "import pyspark\n",
    "sc = pyspark.SparkContext('local[*]')\n",
    "spark = pyspark.sql.SparkSession(sc)"
   ]
  },
  {
   "cell_type": "code",
   "execution_count": 3,
   "metadata": {},
   "outputs": [],
   "source": [
    "df = spark.read.csv('work/pageViews.csv', header=True)"
   ]
  },
  {
   "cell_type": "code",
   "execution_count": 4,
   "metadata": {},
   "outputs": [
    {
     "data": {
      "text/plain": [
       "2286"
      ]
     },
     "execution_count": 4,
     "metadata": {},
     "output_type": "execute_result"
    }
   ],
   "source": [
    "df.count()"
   ]
  },
  {
   "cell_type": "code",
   "execution_count": 5,
   "metadata": {},
   "outputs": [
    {
     "data": {
      "text/plain": [
       "Row(event_id='52c0e3dd-7dc2-433b-ad90-ac94bf1ed172', collector_tstamp='2016-01-01 01:33:35.0', domain_userid='afaa5ae5149c4e6d', page_urlpath='/our-products')"
      ]
     },
     "execution_count": 5,
     "metadata": {},
     "output_type": "execute_result"
    }
   ],
   "source": [
    "df.head()"
   ]
  },
  {
   "cell_type": "code",
   "execution_count": 6,
   "metadata": {},
   "outputs": [],
   "source": [
    "import pyspark.sql.functions as F"
   ]
  },
  {
   "cell_type": "code",
   "execution_count": 7,
   "metadata": {},
   "outputs": [],
   "source": [
    "hashed_df = df.withColumn('page_urlpath', F.md5(df.page_urlpath))"
   ]
  },
  {
   "cell_type": "code",
   "execution_count": 9,
   "metadata": {},
   "outputs": [
    {
     "name": "stdout",
     "output_type": "stream",
     "text": [
      "+--------------------+--------------------+----------------+--------------------+\n|            event_id|    collector_tstamp|   domain_userid|        page_urlpath|\n+--------------------+--------------------+----------------+--------------------+\n|52c0e3dd-7dc2-433...|2016-01-01 01:33:...|afaa5ae5149c4e6d|91beb145d90d74d65...|\n|bc365a8f-3d9c-436...|2016-01-01 01:33:...|e823519dcbecf216|a462d3cc01b8fa156...|\n|aaa9ff41-be66-412...|2016-01-01 01:34:...|b12fb3afde81679a|8101d2c7bdcd21cb9...|\n|f2ec6ff4-fe8b-468...|2016-01-01 01:34:...|bb8a0d9a31f021be|8101d2c7bdcd21cb9...|\n|008d5d5b-bb93-4c9...|2016-01-01 01:35:...|805c5528602d1076|cd20b62f9457c5f33...|\n|4ba1c0fd-01c3-4ec...|2016-01-01 04:32:...|a6d79809eb606f19|4146ec82a0f0a638d...|\n|92d4752d-c027-426...|2016-01-01 04:35:...|2a306480784ad73f|c076021aa6070c952...|\n|6080d6e9-9019-4c8...|2016-01-01 05:30:...|c64802b1ca172cf8|7e7817174ce3ecda9...|\n|1b41c85c-9cce-422...|2016-01-01 05:32:...|c999b100cbbb875d|8101d2c7bdcd21cb9...|\n|f6f0a469-a97a-451...|2016-01-01 05:35:...|45893c7511520d05|8101d2c7bdcd21cb9...|\n|8868c1c5-5441-40a...|2016-01-01 13:31:...|b410f87747e8ee11|4146ec82a0f0a638d...|\n|ec473bee-6a2c-48e...|2016-01-01 13:32:...|40120ee6be432ecf|f2614a85ad6eba811...|\n|6a0fd161-5393-4e3...|2016-01-01 17:32:...|1f743a443d8a308d|1184459204379e186...|\n|dd3c5d71-fc7f-4fb...|2016-01-01 17:32:...|6f99579ebb522d6d|8101d2c7bdcd21cb9...|\n|7bf584ea-f52f-4fa...|2016-01-01 17:32:...|9a0397e81d4a8c73|4146ec82a0f0a638d...|\n|50727bf7-2f79-484...|2016-01-01 17:32:...|6f99579ebb522d6d|dbcf0bf27c5e02fb1...|\n|cb2760a5-eda9-48c...|2016-01-01 17:34:...|6f99579ebb522d6d|0cb5e6a4e6217235a...|\n|ce70acd3-1408-466...|2016-01-01 20:30:...|6544b76ed49a4e1b|8101d2c7bdcd21cb9...|\n|fcd64100-3666-4d2...|2016-01-01 20:31:...|9a7fd9e0f850ccc9|4146ec82a0f0a638d...|\n|5abb6101-bb34-4a6...|2016-01-01 20:31:...|a45d70ec00a2da82|91beb145d90d74d65...|\n+--------------------+--------------------+----------------+--------------------+\nonly showing top 20 rows\n\n"
     ]
    }
   ],
   "source": [
    "hashed_df.show()"
   ]
  },
  {
   "cell_type": "code",
   "execution_count": 10,
   "metadata": {},
   "outputs": [],
   "source": [
    "hashed_df.repartition(1).write.csv('work/hashedPageViews', header=True)"
   ]
  },
  {
   "cell_type": "code",
   "execution_count": null,
   "metadata": {},
   "outputs": [],
   "source": []
  }
 ],
 "metadata": {
  "kernelspec": {
   "display_name": "Python 2",
   "language": "python",
   "name": "python2"
  },
  "language_info": {
   "codemirror_mode": {
    "name": "ipython",
    "version": 2
   },
   "file_extension": ".py",
   "mimetype": "text/x-python",
   "name": "python",
   "nbconvert_exporter": "python",
   "pygments_lexer": "ipython2",
   "version": "2.7.6"
  }
 },
 "nbformat": 4,
 "nbformat_minor": 0
}
