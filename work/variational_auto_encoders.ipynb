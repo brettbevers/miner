{
 "cells": [
  {
   "cell_type": "code",
   "execution_count": 1,
   "metadata": {},
   "outputs": [],
   "source": [
    "from functools import reduce\n",
    "\n",
    "import tensorflow as tf\n",
    "import numpy as np\n",
    "import matplotlib.pyplot as plt\n",
    "\n",
    "%matplotlib inline"
   ]
  },
  {
   "cell_type": "code",
   "execution_count": 2,
   "metadata": {},
   "outputs": [],
   "source": [
    "def shuffle(*dfs):\n",
    "  dataset = reduce(lambda a,b: np.append(a, b, axis=0), dfs)\n",
    "  permutation = np.random.permutation(dataset.shape[0])\n",
    "  shuffled = dataset[permutation]\n",
    "  return shuffled\n",
    "\n",
    "\n",
    "unit = 0.005\n",
    "\n",
    "on = unit * 0.1\n",
    "off = unit * 0.00\n",
    "\n",
    "\n",
    "def generate_cluster(unit, cross_cov, mu, count):\n",
    "    mu = np.array(mu)\n",
    "    sigma_1, sigma_2, sigma_3 = unit, unit, unit\n",
    "    sigma_1_2, sigma_1_3, sigma_2_3 = cross_cov\n",
    "    cov = np.array([\n",
    "      [sigma_1, sigma_1_2, sigma_1_3],\n",
    "      [sigma_1_2, sigma_2, sigma_2_3],\n",
    "      [sigma_1_3, sigma_2_3, sigma_3]\n",
    "    ])\n",
    "    ds = np.random.multivariate_normal(mu, cov, count)\n",
    "    return ds\n",
    "\n",
    "\n",
    "def reduce_correlation(ds, noise):\n",
    "    count = ds.shape[0]\n",
    "    ds_t = ds.T\n",
    "    for i, x in enumerate(noise):\n",
    "        num = int(count*x)\n",
    "        ds_t[i].put(np.random.choice(count, num, replace=False), np.random.choice(ds.T[i], num))\n",
    "    return ds_t.T\n",
    "\n",
    "\n",
    "rv1 = generate_cluster(unit, (on, -off, off), [2,0,0], 250000) \n",
    "rv2 = generate_cluster(unit, (on, off, -off), [0,0,2], 500000)\n",
    "rv3 = generate_cluster(unit, (-on, off, off), [0,2,0], 500000)\n",
    "rv4 = generate_cluster(unit, (-on, -off, -off), [-1,-1,-1], 1000000)\n",
    "\n",
    "data = reduce_correlation(shuffle(rv1, rv2, rv3, rv4), [0.0, 0.0, 0.0])"
   ]
  },
  {
   "cell_type": "code",
   "execution_count": 3,
   "metadata": {},
   "outputs": [
    {
     "data": {
      "text/plain": [
       "<matplotlib.collections.PathCollection at 0x7f7a605d16d8>"
      ]
     },
     "execution_count": 3,
     "metadata": {},
     "output_type": "execute_result"
    },
    {
     "data": {
      "image/png": "[encoded data removed]",
      "text/plain": [
       "<matplotlib.figure.Figure at 0x7f7a60913080>"
      ]
     },
     "metadata": {},
     "output_type": "display_data"
    }
   ],
   "source": [
    "plt.scatter(data[:,0], data[:,1])"
   ]
  },
  {
   "cell_type": "code",
   "execution_count": 23,
   "metadata": {},
   "outputs": [],
   "source": [
    "n_input = 3\n",
    "n_latent = 1\n",
    "n_layers = 2\n",
    "n_hidden = 9\n",
    "\n",
    "batch_size = 50\n",
    "\n",
    "x = tf.placeholder(\"float32\", [batch_size, n_input])\n",
    "\n",
    "encoder_weights = []\n",
    "encoder_biases = []\n",
    "encoder_layers = []\n",
    "encoder_layer = tf.layers.Dense(units=n_hidden, activation=tf.nn.sigmoid)\n",
    "encoder_layers.append(encoder_layer)\n",
    "applied_layer = encoder_layer.apply(x)\n",
    "for i in range(n_layers - 1):\n",
    "    encoder_layer = tf.layers.Dense(units=n_hidden, activation=tf.nn.sigmoid)\n",
    "    encoder_layers.append(encoder_layer)\n",
    "    applied_layer = encoder_layer.apply(applied_layer)\n",
    "    \n",
    "mn = tf.layers.Dense(units=n_latent)\n",
    "applied_mn = mn.apply(applied_layer)\n",
    "cov = tf.layers.Dense(units=n_latent)\n",
    "applied_cov = cov.apply(applied_layer)\n",
    "epsilon = tf.random_normal(tf.stack([batch_size, n_latent])) \n",
    "z = applied_mn + tf.multiply(epsilon, tf.exp(0.5 * applied_cov))\n",
    "\n",
    "decoder_layers = []\n",
    "decoder_layer = tf.layers.Dense(units=n_hidden, activation=tf.nn.sigmoid)\n",
    "decoder_layers.append(decoder_layer)\n",
    "applied_layer = decoder_layer.apply(z)\n",
    "for i in range(n_layers - 1):\n",
    "    decoder_layer = tf.layers.Dense(units=n_hidden, activation=tf.nn.sigmoid)\n",
    "    decoder_layers.append(decoder_layer)\n",
    "    applied_layer = decoder_layer.apply(applied_layer)\n",
    "    \n",
    "dec = tf.layers.Dense(units=n_input)\n",
    "applied_dec = dec.apply(applied_layer)\n",
    "\n",
    "feature_loss = tf.reduce_sum(tf.squared_difference(x, applied_dec), 1)\n",
    "latent_loss = -0.5 * tf.reduce_sum(1.0 + applied_cov - tf.square(applied_mn) - tf.exp(applied_cov), 1)\n",
    "loss = tf.reduce_mean(feature_loss + latent_loss)\n",
    "\n",
    "optimizer = tf.train.AdamOptimizer(0.005).minimize(loss)"
   ]
  },
  {
   "cell_type": "code",
   "execution_count": 32,
   "metadata": {},
   "outputs": [],
   "source": [
    "class VariationalAutoEncoder(object):\n",
    "    \n",
    "    def __init__(self, n_hidden_layers, n_hidden_units, n_latent_units, learning_rate=0.005):\n",
    "        self.n_hidden_layers = n_hidden_layers\n",
    "        self.n_hidden_units = n_hidden_units\n",
    "        self.n_latent_units = n_latent_units\n",
    "        self.learning_rate = learning_rate\n",
    "    \n",
    "            \n",
    "    class Encoder(object):\n",
    "        def __init__(self, n_hidden_layers, n_hidden_units, n_latent_units):\n",
    "            self.n_hidden_layers = n_hidden_layers\n",
    "            self.n_hidden_units = n_hidden_units\n",
    "            self.n_latent_units = n_latent_units\n",
    "            \n",
    "        def init_hidden_layers(self):\n",
    "            self.hidden_layers = []\n",
    "            self.applied_hidden_layers = []\n",
    "            \n",
    "        def add_hidden_layer(self, inputs):\n",
    "            self.hidden_layers.append(tf.layers.Dense(units=self.n_hidden_units, activation=tf.nn.sigmoid))\n",
    "            self.applied_hidden_layers.append(self.hidden_layers[-1].apply(inputs))\n",
    "            return self.applied_hidden_layers[-1]\n",
    "        \n",
    "        def add_mu(self, inputs):\n",
    "            self.mu = tf.layers.Dense(units=self.n_latent_units)\n",
    "            self.applied_mu = self.mu.apply(inputs)\n",
    "            return self.applied_mu\n",
    "            \n",
    "        def add_sigma(self, inputs):\n",
    "            self.sigma = tf.layers.Dense(units=self.n_latent_units)\n",
    "            self.applied_sigma = self.sigma.apply(inputs)\n",
    "            return self.applied_sigma\n",
    "            \n",
    "        def build(self, inputs):\n",
    "            self.init_hidden_layers()\n",
    "            \n",
    "            layer = self.add_hidden_layer(inputs)\n",
    "            \n",
    "            for i in range(self.n_hidden_layers - 1):\n",
    "                layer = self.add_hidden_layer(layer)\n",
    "                \n",
    "            mu = self.add_mu(layer)\n",
    "            sigma = self.add_sigma(layer)\n",
    "            \n",
    "            return mu, sigma\n",
    "            \n",
    "            \n",
    "    class Decoder(object):\n",
    "        def __init__(self, n_hidden_layers, n_hidden_units, n_output_units):\n",
    "            self.n_hidden_layers = n_hidden_layers\n",
    "            self.n_hidden_units = n_hidden_units\n",
    "            self.n_output_units = n_output_units\n",
    "            \n",
    "        def init_hidden_layers(self):\n",
    "            self.hidden_layers = []\n",
    "            self.applied_hidden_layers = []\n",
    "            \n",
    "        def add_hidden_layer(self, inputs):\n",
    "            self.hidden_layers.append(tf.layers.Dense(units=self.n_hidden_units, activation=tf.nn.sigmoid))\n",
    "            self.applied_hidden_layers.append(self.hidden_layers[-1].apply(inputs))\n",
    "            return self.applied_hidden_layers[-1]\n",
    "        \n",
    "        def add_output(self, inputs):\n",
    "            self.output = tf.layers.Dense(units=self.n_output_units)\n",
    "            self.applied_output = self.output.apply(inputs)\n",
    "            return self.applied_output\n",
    "            \n",
    "        def build(self, inputs):\n",
    "            self.init_hidden_layers()\n",
    "            \n",
    "            layer = self.add_hidden_layer(inputs)\n",
    "            \n",
    "            for i in range(self.n_hidden_layers - 1):\n",
    "                layer = self.add_hidden_layer(layer)\n",
    "                \n",
    "            output = self.add_output(layer)\n",
    "            \n",
    "            return output\n",
    "        \n",
    "        \n",
    "    def sampled_z(self, mu, sigma, batch_size):\n",
    "        epsilon = tf.random_normal(tf.stack([batch_size, self.n_latent_units])) \n",
    "        z = mu + tf.multiply(epsilon, tf.exp(0.5 * sigma))\n",
    "        return z\n",
    "    \n",
    "    def build_losses(self, x, output, mu, sigma):\n",
    "        feature_loss = tf.reduce_sum(tf.squared_difference(x, output), 1)\n",
    "        latent_loss = -0.5 * tf.reduce_sum(1.0 + sigma - tf.square(mu) - tf.exp(sigma), 1)\n",
    "        loss = tf.reduce_mean(feature_loss + latent_loss)\n",
    "        \n",
    "        return loss, feature_loss, latent_loss\n",
    "        \n",
    "    def train(self, data, batch_size=None, visualize=False):\n",
    "        data_size = data.shape[0]\n",
    "        if not batch_size:\n",
    "            batch_size = int(data_size / 100)\n",
    "            \n",
    "        n_input = data.shape[-1]\n",
    "                                    \n",
    "        x = tf.placeholder(\"float32\", [batch_size, n_input])\n",
    "        \n",
    "        encoder = self.Encoder(self.n_hidden_layers, self.n_hidden_units, self.n_latent_units)\n",
    "        \n",
    "        mu, sigma = encoder.build(x)\n",
    "        \n",
    "        z = self.sampled_z(mu, sigma, batch_size)\n",
    "        \n",
    "        decoder = self.Decoder(self.n_hidden_layers, self.n_hidden_units, n_input)\n",
    "        \n",
    "        output = decoder.build(z)\n",
    "        \n",
    "        loss, feature_loss, latent_loss = self.build_losses(x, output, mu, sigma)\n",
    "        \n",
    "        optimizer = tf.train.AdamOptimizer(self.learning_rate).minimize(loss)\n",
    "\n",
    "        data_size = data.shape[0]\n",
    "        \n",
    "        with tf.Session() as sess:\n",
    "            sess.run(tf.global_variables_initializer())\n",
    "            \n",
    "            i = 0\n",
    "            while (i * batch_size) < data_size:\n",
    "                batch = data[i*batch_size:(i+1)*batch_size]\n",
    "                sess.run(optimizer, feed_dict={x: batch})\n",
    "                \n",
    "                if visualize and (not i % int((data_size/batch_size)/3) or i == int(data_size/batch_size) - 1):\n",
    "                    ls, d, f_ls, d_ls = sess.run([loss, output, feature_loss, latent_loss], feed_dict={x: batch})\n",
    "                    plt.scatter(batch[:,0], batch[:,1])\n",
    "                    plt.show()\n",
    "                    plt.scatter(d[:,0], d[:,1])\n",
    "                    plt.show()\n",
    "                    print(i, ls, np.mean(f_ls), np.mean(d_ls))\n",
    "            \n",
    "                i += 1\n",
    "            \n",
    "        \n",
    "        \n",
    "class VariationalAutoEncoderModel(object):\n",
    "    def init(self, encoder_model, decoder_model):\n",
    "        self.encoder = encoder\n",
    "        self.decoder = decoder"
   ]
  },
  {
   "cell_type": "code",
   "execution_count": 33,
   "metadata": {
    "collapsed": true
   },
   "outputs": [
    {
     "data": {
      "image/png": "[encoded data removed]",
      "text/plain": [
       "<matplotlib.figure.Figure at 0x7f7a0b9257b8>"
      ]
     },
     "metadata": {},
     "output_type": "display_data"
    },
    {
     "data": {
      "image/png": "[encoded data removed]",
      "text/plain": [
       "<matplotlib.figure.Figure at 0x7f7a383fadd8>"
      ]
     },
     "metadata": {},
     "output_type": "display_data"
    },
    {
     "name": "stdout",
     "output_type": "stream",
     "text": [
      "0 4.59185 4.59059 0.00125094\n"
     ]
    },
    {
     "data": {
      "image/png": "[encoded data removed]",
      "text/plain": [
       "<matplotlib.figure.Figure at 0x7f7a3841bc88>"
      ]
     },
     "metadata": {},
     "output_type": "display_data"
    },
    {
     "data": {
      "image/png": "[encoded data removed]",
      "text/plain": [
       "<matplotlib.figure.Figure at 0x7f7a0b861710>"
      ]
     },
     "metadata": {},
     "output_type": "display_data"
    },
    {
     "name": "stdout",
     "output_type": "stream",
     "text": [
      "15000 1.56573 0.212149 1.35358\n"
     ]
    },
    {
     "data": {
      "image/png": "[encoded data removed]",
      "text/plain": [
       "<matplotlib.figure.Figure at 0x7f7a0a456cc0>"
      ]
     },
     "metadata": {},
     "output_type": "display_data"
    },
    {
     "data": {
      "image/png": "[encoded data removed]",
      "text/plain": [
       "<matplotlib.figure.Figure at 0x7f7a0a45f550>"
      ]
     },
     "metadata": {},
     "output_type": "display_data"
    },
    {
     "name": "stdout",
     "output_type": "stream",
     "text": [
      "30000 1.4292 0.0275777 1.40163\n"
     ]
    },
    {
     "data": {
      "image/png": "[encoded data removed]",
      "text/plain": [
       "<matplotlib.figure.Figure at 0x7f7a0a312e80>"
      ]
     },
     "metadata": {},
     "output_type": "display_data"
    },
    {
     "data": {
      "image/png": "[encoded data removed]",
      "text/plain": [
       "<matplotlib.figure.Figure at 0x7f7a0a39cf60>"
      ]
     },
     "metadata": {},
     "output_type": "display_data"
    },
    {
     "name": "stdout",
     "output_type": "stream",
     "text": [
      "44999 1.67974 0.32249 1.35725\n"
     ]
    }
   ],
   "source": [
    "VariationalAutoEncoder(n_hidden_layers=3, n_hidden_units=9, n_latent_units=1, learning_rate=0.005)\\\n",
    "    .train(data, batch_size=50, visualize=True)"
   ]
  },
  {
   "cell_type": "code",
   "execution_count": null,
   "metadata": {},
   "outputs": [],
   "source": []
  }
 ],
 "metadata": {
  "kernelspec": {
   "display_name": "Python 2",
   "language": "python",
   "name": "python2"
  },
  "language_info": {
   "codemirror_mode": {
    "name": "ipython",
    "version": 2
   },
   "file_extension": ".py",
   "mimetype": "text/x-python",
   "name": "python",
   "nbconvert_exporter": "python",
   "pygments_lexer": "ipython2",
   "version": "2.7.6"
  }
 },
 "nbformat": 4,
 "nbformat_minor": 0
}
