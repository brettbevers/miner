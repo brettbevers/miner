{
 "cells": [
  {
   "cell_type": "code",
   "execution_count": 1,
   "metadata": {},
   "outputs": [],
   "source": [
    "from functools import reduce\n",
    "from itertools import islice\n",
    "import pickle\n",
    "\n",
    "import tensorflow as tf\n",
    "import numpy as np\n",
    "import matplotlib.pyplot as plt\n",
    "\n",
    "%matplotlib inline"
   ]
  },
  {
   "cell_type": "code",
   "execution_count": 8,
   "metadata": {},
   "outputs": [],
   "source": [
    "def shuffle(*dfs):\n",
    "  dataset = reduce(lambda a,b: np.append(a, b, axis=0), dfs)\n",
    "  permutation = np.random.permutation(dataset.shape[0])\n",
    "  shuffled = dataset[permutation]\n",
    "  return shuffled\n",
    "\n",
    "\n",
    "unit = 0.15\n",
    "\n",
    "on = unit * 0.1\n",
    "off = unit * 0.00\n",
    "\n",
    "\n",
    "def generate_cluster(unit, cross_cov, mu, count):\n",
    "    mu = np.array(mu)\n",
    "    sigma_1, sigma_2, sigma_3 = unit, unit, unit\n",
    "    sigma_1_2, sigma_1_3, sigma_2_3 = cross_cov\n",
    "    cov = np.array([\n",
    "      [sigma_1, sigma_1_2, sigma_1_3],\n",
    "      [sigma_1_2, sigma_2, sigma_2_3],\n",
    "      [sigma_1_3, sigma_2_3, sigma_3]\n",
    "    ])\n",
    "    ds = np.random.multivariate_normal(mu, cov, count)\n",
    "    return ds\n",
    "\n",
    "\n",
    "def reduce_correlation(ds, noise):\n",
    "    count = ds.shape[0]\n",
    "    ds_t = ds.T\n",
    "    for i, x in enumerate(noise):\n",
    "        num = int(count*x)\n",
    "        ds_t[i].put(np.random.choice(count, num, replace=False), np.random.choice(ds.T[i], num))\n",
    "    return ds_t.T\n",
    "\n",
    "\n",
    "rv1 = generate_cluster(unit, (on, -off, off), [2,0,0], 250000) \n",
    "rv2 = generate_cluster(unit, (on, off, -off), [0,0,2], 500000)\n",
    "rv3 = generate_cluster(unit, (-on, off, off), [0,2,0], 500000)\n",
    "rv4 = generate_cluster(unit, (-on, -off, -off), [-1,-1,-1], 1000000)\n",
    "\n",
    "# rv5 = generate_cluster(unit, (on, -off, off), [0,0,2], 1250000)\n",
    "# rv6 = generate_cluster(unit, (-on, off, -off), [0,2,0], 1000000)\n",
    "# \n",
    "# data = np.append(shuffle(rv1, rv2, rv3, rv4), shuffle(rv5, rv6), axis=1)\n",
    "\n",
    "data = reduce(lambda a,b: np.append(a, b, axis=0), [rv1, rv2, rv3, rv4])\n",
    "\n",
    "# ind_var = np.random.uniform(-1, 1, [data.shape[0], 20])\n",
    "\n",
    "# data = np.append(data, ind_var, axis=1)\n",
    "\n",
    "data = shuffle(data)\n",
    "\n",
    "# data = reduce_correlation(data, [0.75, 0.75, 0.75])"
   ]
  },
  {
   "cell_type": "code",
   "execution_count": 9,
   "metadata": {},
   "outputs": [
    {
     "data": {
      "text/plain": [
       "(array([[ 0.,  0.,  0., ...,  0.,  0.,  0.],\n        [ 0.,  0.,  0., ...,  0.,  0.,  0.],\n        [ 0.,  0.,  0., ...,  0.,  0.,  0.],\n        ..., \n        [ 0.,  0.,  0., ...,  0.,  0.,  0.],\n        [ 0.,  0.,  0., ...,  0.,  0.,  0.],\n        [ 0.,  0.,  0., ...,  0.,  0.,  0.]]),\n array([-2.83912681, -2.69932876, -2.55953071, -2.41973266, -2.27993461,\n        -2.14013656, -2.00033851, -1.86054047, -1.72074242, -1.58094437,\n        -1.44114632, -1.30134827, -1.16155022, -1.02175217, -0.88195412,\n        -0.74215607, -0.60235802, -0.46255997, -0.32276193, -0.18296388,\n        -0.04316583,  0.09663222,  0.23643027,  0.37622832,  0.51602637,\n         0.65582442,  0.79562247,  0.93542052,  1.07521857,  1.21501661,\n         1.35481466,  1.49461271,  1.63441076,  1.77420881,  1.91400686,\n         2.05380491,  2.19360296,  2.33340101,  2.47319906,  2.6129971 ,\n         2.75279515,  2.8925932 ,  3.03239125,  3.1721893 ,  3.31198735,\n         3.4517854 ,  3.59158345,  3.7313815 ,  3.87117955,  4.0109776 ,\n         4.15077564]),\n array([-3.20989433, -3.06831343, -2.92673253, -2.78515163, -2.64357073,\n        -2.50198982, -2.36040892, -2.21882802, -2.07724712, -1.93566622,\n        -1.79408531, -1.65250441, -1.51092351, -1.36934261, -1.22776171,\n        -1.0861808 , -0.9445999 , -0.803019  , -0.6614381 , -0.51985719,\n        -0.37827629, -0.23669539, -0.09511449,  0.04646641,  0.18804732,\n         0.32962822,  0.47120912,  0.61279002,  0.75437092,  0.89595183,\n         1.03753273,  1.17911363,  1.32069453,  1.46227543,  1.60385634,\n         1.74543724,  1.88701814,  2.02859904,  2.17017994,  2.31176085,\n         2.45334175,  2.59492265,  2.73650355,  2.87808446,  3.01966536,\n         3.16124626,  3.30282716,  3.44440806,  3.58598897,  3.72756987,\n         3.86915077]),\n <matplotlib.image.AxesImage at 0x7f72f8bbc518>)"
      ]
     },
     "execution_count": 9,
     "metadata": {},
     "output_type": "execute_result"
    },
    {
     "data": {
      "image/png": "[encoded data removed]",
      "text/plain": [
       "<matplotlib.figure.Figure at 0x7f72f14bd550>"
      ]
     },
     "metadata": {},
     "output_type": "display_data"
    }
   ],
   "source": [
    "plt.hist2d(data[:,0], data[:,1], bins=50)"
   ]
  },
  {
   "cell_type": "code",
   "execution_count": null,
   "metadata": {},
   "outputs": [],
   "source": [
    "class VariationalAutoEncoder(object):\n",
    "    \n",
    "    def __init__(self, n_input_units, n_hidden_layers, n_hidden_units, n_latent_units, \n",
    "                 learning_rate=0.005, batch_size=100, min_beta=1.0, max_beta=1.0):\n",
    "        self.n_input_units = n_input_units\n",
    "        self.n_hidden_layers = n_hidden_layers\n",
    "        self.n_hidden_units = n_hidden_units\n",
    "        self.n_latent_units = n_latent_units\n",
    "        self.learning_rate = learning_rate\n",
    "        self.batch_size = int(batch_size)\n",
    "        self.min_beta = min_beta\n",
    "        self.max_beta = max_beta\n",
    "    \n",
    "            \n",
    "    class Encoder(object):\n",
    "        def __init__(self, n_hidden_layers, n_hidden_units, n_latent_units):\n",
    "            self.n_hidden_layers = n_hidden_layers\n",
    "            self.n_hidden_units = n_hidden_units\n",
    "            self.n_latent_units = n_latent_units\n",
    "            \n",
    "        def init_hidden_layers(self):\n",
    "            self.hidden_layers = []\n",
    "            self.applied_hidden_layers = []\n",
    "            \n",
    "        def add_hidden_layer(self, inputs):\n",
    "            self.hidden_layers.append(tf.layers.Dense(units=self.n_hidden_units, activation=tf.nn.sigmoid))\n",
    "            self.applied_hidden_layers.append(self.hidden_layers[-1].apply(inputs))\n",
    "            return self.applied_hidden_layers[-1]\n",
    "        \n",
    "        def add_mu(self, inputs):\n",
    "            self.mu = tf.layers.Dense(units=self.n_latent_units)\n",
    "            self.applied_mu = self.mu.apply(inputs)\n",
    "            return self.applied_mu\n",
    "            \n",
    "        def add_sigma(self, inputs):\n",
    "            self.sigma = tf.layers.Dense(units=self.n_latent_units)\n",
    "            self.applied_sigma = self.sigma.apply(inputs)\n",
    "            return self.applied_sigma\n",
    "            \n",
    "        def build(self, inputs):\n",
    "            self.init_hidden_layers()\n",
    "            \n",
    "            layer = self.add_hidden_layer(inputs)\n",
    "            \n",
    "            for i in range(self.n_hidden_layers - 1):\n",
    "                layer = self.add_hidden_layer(layer)\n",
    "                \n",
    "            mu = self.add_mu(layer)\n",
    "            sigma = self.add_sigma(layer)\n",
    "            \n",
    "            return mu, sigma\n",
    "        \n",
    "        def eval(self, sess):\n",
    "            layers = [\n",
    "                sess.run([l.kernel, l.bias])\n",
    "                for l in self.hidden_layers                    \n",
    "            ]\n",
    "            \n",
    "            mu = sess.run([self.mu.kernel, self.mu.bias])\n",
    "            \n",
    "            sigma = sess.run([self.sigma.kernel, self.sigma.bias])\n",
    "            \n",
    "            return layers, mu, sigma\n",
    "            \n",
    "            \n",
    "    class Decoder(object):\n",
    "        def __init__(self, n_hidden_layers, n_hidden_units, n_output_units):\n",
    "            self.n_hidden_layers = n_hidden_layers\n",
    "            self.n_hidden_units = n_hidden_units\n",
    "            self.n_output_units = n_output_units\n",
    "            \n",
    "        def init_hidden_layers(self):\n",
    "            self.hidden_layers = []\n",
    "            self.applied_hidden_layers = []\n",
    "            \n",
    "        def add_hidden_layer(self, inputs):\n",
    "            self.hidden_layers.append(tf.layers.Dense(units=self.n_hidden_units, activation=tf.nn.sigmoid))\n",
    "            self.applied_hidden_layers.append(self.hidden_layers[-1].apply(inputs))\n",
    "            return self.applied_hidden_layers[-1]\n",
    "        \n",
    "        def add_output(self, inputs):\n",
    "            self.output = tf.layers.Dense(units=self.n_output_units)\n",
    "            self.applied_output = self.output.apply(inputs)\n",
    "            return self.applied_output\n",
    "            \n",
    "        def build(self, inputs):\n",
    "            self.init_hidden_layers()\n",
    "            \n",
    "            layer = self.add_hidden_layer(inputs)\n",
    "            \n",
    "            for i in range(self.n_hidden_layers - 1):\n",
    "                layer = self.add_hidden_layer(layer)\n",
    "                \n",
    "            output = self.add_output(layer)\n",
    "            \n",
    "            return output\n",
    "        \n",
    "        def eval(self, sess):\n",
    "            layers = [\n",
    "                sess.run([l.kernel, l.bias])\n",
    "                for l in self.hidden_layers\n",
    "            ]\n",
    "            \n",
    "            output = sess.run([self.output.kernel, self.output.bias])\n",
    "            \n",
    "            return layers, output\n",
    "        \n",
    "        \n",
    "    def sampled_z(self, mu, sigma, batch_size):\n",
    "        epsilon = tf.random_normal(tf.stack([int(batch_size), self.n_latent_units])) \n",
    "        z = mu + tf.multiply(epsilon, tf.exp(0.5 * sigma))\n",
    "        return z\n",
    "    \n",
    "    def build_losses(self, x, output, mu, sigma):\n",
    "        feature_loss = tf.reduce_sum(tf.squared_difference(x, output), 1)\n",
    "        latent_loss = -0.5 * self.beta * tf.reduce_sum(1.0 + sigma - tf.square(mu) - tf.exp(sigma), 1)\n",
    "        loss = tf.reduce_mean(feature_loss + latent_loss)\n",
    "        return loss, feature_loss, latent_loss\n",
    "      \n",
    "    def initialize_tensors(self):\n",
    "        self.x = tf.placeholder(\"float32\", [self.batch_size, self.n_input_units])\n",
    "        self.beta = tf.placeholder(\"float32\", [1, 1])\n",
    "        self.encoder = self.Encoder(self.n_hidden_layers, self.n_hidden_units, self.n_latent_units)\n",
    "        mu, sigma = self.encoder.build(self.x)\n",
    "        self.mu = mu\n",
    "        self.sigma = sigma\n",
    "        self.z = self.sampled_z(self.mu, self.sigma, self.batch_size)\n",
    "        self.decoder = self.Decoder(self.n_hidden_layers, self.n_hidden_units, self.n_input_units)\n",
    "        self.output = self.decoder.build(self.z)\n",
    "        loss, feature_loss, latent_loss = self.build_losses(self.x, self.output, self.mu, self.sigma)\n",
    "        self.loss = loss\n",
    "        self.feature_loss = feature_loss\n",
    "        self.latent_loss = latent_loss\n",
    "        \n",
    "    def generate_beta_values(self, data_count, epochs):\n",
    "        num_batches = int(data_count / self.batch_size)\n",
    "        total_steps = (num_batches * epochs) - epochs\n",
    "        beta_delta = self.max_beta - self.min_beta\n",
    "        log_beta_step = 5 / float(total_steps)\n",
    "        beta_values = [\n",
    "            self.min_beta + (beta_delta * (1 - math.exp(-5 + (i * log_beta_step))))\n",
    "            for i in range(total_steps)\n",
    "        ]\n",
    "        return beta_values\n",
    "        \n",
    "    def train_from_rdd(self, data_rdd, epochs=1):\n",
    "        self.initialize_tensors()\n",
    "        \n",
    "        data_count = data_rdd.count()\n",
    "        beta_values = self.generate_beta_values(data_count, epochs)\n",
    "        \n",
    "        optimizer = tf.train.AdamOptimizer(self.learning_rate).minimize(self.loss)\n",
    "        \n",
    "        with tf.Session() as sess:\n",
    "            sess.run(tf.global_variables_initializer())\n",
    "            \n",
    "            for epoch_index in range(epochs): \n",
    "                iterator = data_rdd.toLocalIterator()\n",
    "                batch_index = 0\n",
    "                while True:\n",
    "                    batch = np.array(list(islice(iterator, self.batch_size)))\n",
    "                    if batch.shape[0] == self.batch_size:\n",
    "                        beta = beta_values.pop(0) if len(beta_values) > 0 else self.min_beta\n",
    "                        feed_dict = {self.x: np.array(batch), self.beta: np.array([[beta]])}\n",
    "                        \n",
    "                        if not batch_index % 100:\n",
    "                            print(\"beta: {}\".format(beta))\n",
    "                            ls, f_ls, d_ls = sess.run([self.loss, self.feature_loss, self.latent_loss], feed_dict=feed_dict)\n",
    "                            print(\"loss={}, avg_feature_loss={}, avg_latent_loss={}\".format(ls, np.mean(f_ls), np.mean(d_ls)))\n",
    "                            print('running batch {} in epoch {}'.format(batch_index, epoch_index))\n",
    "                        sess.run(optimizer, feed_dict=feed_dict)\n",
    "                        batch_index += 1\n",
    "                    else:\n",
    "                        print(\"incomplete batch: {}\".format(batch.shape))\n",
    "                        break\n",
    "                \n",
    "            print(\"evaluating model...\")\n",
    "            encoder_layers, eval_mu, eval_sigma = self.encoder.eval(sess)\n",
    "            decoder_layers, eval_output = self.decoder.eval(sess)\n",
    "            \n",
    "        return VariationalAutoEncoderModel(encoder_layers, eval_mu, eval_sigma, decoder_layers, eval_output)\n",
    "             \n",
    "    def train(self, data, visualize=False):\n",
    "        data_size = data.shape[0]\n",
    "        batch_size = self.batch_size\n",
    "        \n",
    "        optimizer = tf.train.AdamOptimizer(self.learning_rate).minimize(self.loss)\n",
    "        \n",
    "        with tf.Session() as sess:\n",
    "            sess.run(tf.global_variables_initializer())\n",
    "            \n",
    "            i = 0\n",
    "            while (i * batch_size) < data_size:\n",
    "                batch = data[i * batch_size:(i+1) * batch_size]\n",
    "                sess.run(optimizer, feed_dict={self.x: batch})\n",
    "                \n",
    "                if visualize and (not i % int((data_size/batch_size)/3) or i == int(data_size/batch_size) - 1):\n",
    "                    ls, d, f_ls, d_ls = sess.run([self.loss, self.output, self.feature_loss, self.latent_loss], feed_dict={self.x: batch})\n",
    "                    plt.scatter(batch[:,0], batch[:,1])\n",
    "                    plt.show()\n",
    "                    plt.scatter(d[:,0], d[:,1])\n",
    "                    plt.show()\n",
    "                    print(i, ls, np.mean(f_ls), np.mean(d_ls))\n",
    "            \n",
    "                i += 1\n",
    "                \n",
    "            encoder_layers, eval_mu, eval_sigma = self.encoder.eval(sess)\n",
    "            decoder_layers, eval_output = self.decoder.eval(sess)\n",
    "            \n",
    "        return VariationalAutoEncoderModel(encoder_layers, eval_mu, eval_sigma, decoder_layers, eval_output)\n",
    "            \n",
    "        \n",
    "class VariationalAutoEncoderModel(object):\n",
    "    def __init__(self, encoder_layers, mu, sigma, decoder_layers, output):\n",
    "        self.encoder = self.EncoderModel(encoder_layers, mu, sigma)\n",
    "        self.decoder = self.DecoderModel(decoder_layers, output)\n",
    "        \n",
    "    def save(self, path):\n",
    "        encoder_layers, encoder_mu, encoder_sigma = self.encoder.dump()\n",
    "        decoder_layers, decoder_output = self.decoder.dump()\n",
    "        serializable_model = (encoder_layers, encoder_mu, encoder_sigma, decoder_layers, decoder_output)\n",
    "        pickle.dump(serializable_model, open(path, 'w+'))\n",
    "        \n",
    "    def encode(self, x):\n",
    "        return self.encoder.encode(x)\n",
    "    \n",
    "    def project(self, x):\n",
    "        return self.encoder.encode(x)[0]\n",
    "      \n",
    "    def decode(self, x):\n",
    "       return self.decoder.decode(x)\n",
    "      \n",
    "    @classmethod\n",
    "    def load(cls, path):\n",
    "        return cls(*pickle.load(open(path, 'r')))\n",
    "        \n",
    "    class Layer(object):\n",
    "        def __init__(self, kernel, bias, activation='linear'):\n",
    "            self.kernel = kernel\n",
    "            self.bias = bias\n",
    "            self.activation = activation\n",
    "            \n",
    "        def dump(self):\n",
    "            return (self.kernel, self.bias, self.activation)\n",
    "            \n",
    "        @property\n",
    "        def apply_func(self):\n",
    "            kernel, bias = self.kernel, self.bias\n",
    "            \n",
    "            linear = lambda inputs: np.matmul(inputs, kernel) + bias\n",
    "            \n",
    "            if self.activation == 'linear':\n",
    "                f = linear\n",
    "            elif self.activation == 'sigmoid':\n",
    "                f = lambda inputs: 1 / (1 + np.exp(-linear(inputs)))\n",
    "                \n",
    "            return f\n",
    "            \n",
    "        def apply(self, inputs):\n",
    "            return self.apply_func(inputs)\n",
    "        \n",
    "    class EncoderModel(object):\n",
    "        def __init__(self, encoder_layers, mu, sigma):\n",
    "            self.layers = [\n",
    "                VariationalAutoEncoderModel.Layer(kernel, bias, 'sigmoid')\n",
    "                for kernel, bias in encoder_layers\n",
    "            ]\n",
    "            self.mu = VariationalAutoEncoderModel.Layer(*mu)\n",
    "            self.sigma = VariationalAutoEncoderModel.Layer(*sigma)\n",
    "            \n",
    "        def dump(self):\n",
    "            encoder_layers = [l.dump()[:2] for l in self.layers]\n",
    "            encoder_mu = self.mu.dump()[:2]\n",
    "            encoder_sigma = self.sigma.dump()[:2]\n",
    "            return encoder_layers, encoder_mu, encoder_sigma\n",
    "            \n",
    "        def encode(self, inputs):\n",
    "            x = inputs\n",
    "            for l in self.layers:\n",
    "                x = l.apply(x)\n",
    "            return self.mu.apply(x), self.sigma.apply(x)\n",
    "    \n",
    "    class DecoderModel(object):\n",
    "        def __init__(self, decoder_layers, output):\n",
    "            self.layers = [\n",
    "                VariationalAutoEncoderModel.Layer(kernel, bias, 'sigmoid')\n",
    "                for kernel, bias in decoder_layers\n",
    "            ]\n",
    "            self.output = VariationalAutoEncoderModel.Layer(*output)\n",
    "            \n",
    "        def dump(self):\n",
    "            decoder_layers = [l.dump()[:2] for l in self.layers]\n",
    "            decoder_output = self.output.dump()[:2]\n",
    "            return decoder_layers, decoder_output\n",
    "            \n",
    "        def decode(self, inputs):\n",
    "            x = inputs\n",
    "            for l in self.layers:\n",
    "                x = l.apply(x)\n",
    "            return self.output.apply(x)"
   ]
  },
  {
   "cell_type": "code",
   "execution_count": 11,
   "metadata": {
    "collapsed": true
   },
   "outputs": [
    {
     "data": {
      "image/png": "[encoded data removed]",
      "text/plain": [
       "<matplotlib.figure.Figure at 0x7f72f8a2c7b8>"
      ]
     },
     "metadata": {},
     "output_type": "display_data"
    },
    {
     "data": {
      "image/png": "[encoded data removed]",
      "text/plain": [
       "<matplotlib.figure.Figure at 0x7f72f0f2b780>"
      ]
     },
     "metadata": {},
     "output_type": "display_data"
    },
    {
     "name": "stdout",
     "output_type": "stream",
     "text": [
      "0 4.07356 3.99804 0.0755181\n"
     ]
    },
    {
     "data": {
      "image/png": "[encoded data removed]",
      "text/plain": [
       "<matplotlib.figure.Figure at 0x7f72f8b69dd8>"
      ]
     },
     "metadata": {},
     "output_type": "display_data"
    },
    {
     "data": {
      "image/png": "[encoded data removed]",
      "text/plain": [
       "<matplotlib.figure.Figure at 0x7f72f0f176a0>"
      ]
     },
     "metadata": {},
     "output_type": "display_data"
    },
    {
     "name": "stdout",
     "output_type": "stream",
     "text": [
      "15000 1.80842 0.537584 1.27083\n"
     ]
    },
    {
     "data": {
      "image/png": "[encoded data removed]",
      "text/plain": [
       "<matplotlib.figure.Figure at 0x7f72f3d99940>"
      ]
     },
     "metadata": {},
     "output_type": "display_data"
    },
    {
     "data": {
      "image/png": "[encoded data removed]",
      "text/plain": [
       "<matplotlib.figure.Figure at 0x7f72f3d239e8>"
      ]
     },
     "metadata": {},
     "output_type": "display_data"
    },
    {
     "name": "stdout",
     "output_type": "stream",
     "text": [
      "30000 2.22202 0.772717 1.4493\n"
     ]
    },
    {
     "data": {
      "image/png": "[encoded data removed]",
      "text/plain": [
       "<matplotlib.figure.Figure at 0x7f72f0f176d8>"
      ]
     },
     "metadata": {},
     "output_type": "display_data"
    },
    {
     "data": {
      "image/png": "[encoded data removed]",
      "text/plain": [
       "<matplotlib.figure.Figure at 0x7f72f3c72780>"
      ]
     },
     "metadata": {},
     "output_type": "display_data"
    },
    {
     "name": "stdout",
     "output_type": "stream",
     "text": [
      "44999 2.06272 0.618032 1.44469\n"
     ]
    }
   ],
   "source": [
    "model = VariationalAutoEncoder(n_input_units=3, n_hidden_layers=2, n_hidden_units=9, n_latent_units=1, learning_rate=0.005)\\\n",
    "    .train(data, batch_size=50, visualize=True)"
   ]
  },
  {
   "cell_type": "code",
   "execution_count": 12,
   "metadata": {
    "collapsed": false
   },
   "outputs": [
    {
     "data": {
      "text/plain": [
       "(array([  9.90000000e+01,   1.37000000e+03,   1.12730000e+04,\n          1.14196000e+05,   1.14187000e+05,   7.66040000e+04,\n          5.16410000e+04,   3.64460000e+04,   2.60790000e+04,\n          1.88520000e+04,   1.36100000e+04,   1.00560000e+04,\n          7.34400000e+03,   5.29900000e+03,   3.70300000e+03,\n          2.68100000e+03,   1.85200000e+03,   1.40500000e+03,\n          9.85000000e+02,   7.22000000e+02,   5.06000000e+02,\n          3.41000000e+02,   2.54000000e+02,   1.68000000e+02,\n          1.23000000e+02,   9.00000000e+01,   8.90000000e+01,\n          9.30000000e+01,   1.36000000e+02,   2.03000000e+02,\n          3.30000000e+02,   5.87000000e+02,   1.10600000e+03,\n          2.60600000e+03,   8.22900000e+03,   1.64695000e+05,\n          6.56060000e+04,   4.34900000e+03,   1.26800000e+03,\n          6.03000000e+02,   3.19000000e+02,   2.57000000e+02,\n          2.31000000e+02,   2.27000000e+02,   2.83000000e+02,\n          3.09000000e+02,   4.03000000e+02,   5.34000000e+02,\n          7.87000000e+02,   1.45500000e+03,   3.41900000e+03,\n          2.02280000e+04,   9.71800000e+04,   3.03103000e+05,\n          6.41200000e+04,   5.87100000e+03,   8.92000000e+02,\n          3.05000000e+02,   1.10000000e+02,   6.60000000e+01,\n          3.80000000e+01,   3.10000000e+01,   2.40000000e+01,\n          1.60000000e+01,   1.70000000e+01,   1.00000000e+01,\n          1.50000000e+01,   9.00000000e+00,   4.00000000e+00,\n          1.00000000e+01,   1.00000000e+01,   1.30000000e+01,\n          5.00000000e+00,   1.90000000e+01,   1.00000000e+01,\n          1.10000000e+01,   1.20000000e+01,   1.70000000e+01,\n          1.50000000e+01,   1.10000000e+01,   2.00000000e+01,\n          2.50000000e+01,   2.00000000e+01,   3.00000000e+01,\n          5.70000000e+01,   4.30000000e+01,   6.80000000e+01,\n          7.50000000e+01,   1.02000000e+02,   1.59000000e+02,\n          2.67000000e+02,   3.67000000e+02,   6.94000000e+02,\n          1.42100000e+03,   4.26100000e+03,   2.59250000e+04,\n          2.01213000e+05,   3.19434000e+05,   3.12758000e+05,\n          1.32879000e+05]),\n array([-1.5745995 , -1.54858132, -1.52256314, -1.49654496, -1.47052678,\n        -1.4445086 , -1.41849042, -1.39247225, -1.36645407, -1.34043589,\n        -1.31441771, -1.28839953, -1.26238135, -1.23636317, -1.21034499,\n        -1.18432681, -1.15830863, -1.13229045, -1.10627228, -1.0802541 ,\n        -1.05423592, -1.02821774, -1.00219956, -0.97618138, -0.9501632 ,\n        -0.92414502, -0.89812684, -0.87210866, -0.84609049, -0.82007231,\n        -0.79405413, -0.76803595, -0.74201777, -0.71599959, -0.68998141,\n        -0.66396323, -0.63794505, -0.61192687, -0.58590869, -0.55989052,\n        -0.53387234, -0.50785416, -0.48183598, -0.4558178 , -0.42979962,\n        -0.40378144, -0.37776326, -0.35174508, -0.3257269 , -0.29970872,\n        -0.27369055, -0.24767237, -0.22165419, -0.19563601, -0.16961783,\n        -0.14359965, -0.11758147, -0.09156329, -0.06554511, -0.03952693,\n        -0.01350875,  0.01250942,  0.0385276 ,  0.06454578,  0.09056396,\n         0.11658214,  0.14260032,  0.1686185 ,  0.19463668,  0.22065486,\n         0.24667304,  0.27269122,  0.29870939,  0.32472757,  0.35074575,\n         0.37676393,  0.40278211,  0.42880029,  0.45481847,  0.48083665,\n         0.50685483,  0.53287301,  0.55889119,  0.58490936,  0.61092754,\n         0.63694572,  0.6629639 ,  0.68898208,  0.71500026,  0.74101844,\n         0.76703662,  0.7930548 ,  0.81907298,  0.84509116,  0.87110933,\n         0.89712751,  0.92314569,  0.94916387,  0.97518205,  1.00120023,\n         1.02721841]),\n <a list of 100 Patch objects>)"
      ]
     },
     "execution_count": 12,
     "metadata": {},
     "output_type": "execute_result"
    },
    {
     "data": {
      "image/png": "[encoded data removed]",
      "text/plain": [
       "<matplotlib.figure.Figure at 0x7f72f00b85c0>"
      ]
     },
     "metadata": {},
     "output_type": "display_data"
    }
   ],
   "source": [
    "plt.hist(model.encoder.encode(data)[0], bins=100)"
   ]
  },
  {
   "cell_type": "code",
   "execution_count": 23,
   "metadata": {},
   "outputs": [],
   "source": [
    "from sklearn.mixture import GaussianMixture\n",
    "\n"
   ]
  },
  {
   "cell_type": "code",
   "execution_count": 33,
   "metadata": {},
   "outputs": [],
   "source": [
    "mus = model.encoder.encode(data)[0]\n",
    "\n",
    "results = []\n",
    "\n",
    "for i in range(1,10):\n",
    "    m = GaussianMixture(i).fit(mus)\n",
    "    results.append((i, m.score(mus), m.aic(mus), m.bic(mus)))"
   ]
  },
  {
   "cell_type": "code",
   "execution_count": 31,
   "metadata": {},
   "outputs": [
    {
     "data": {
      "text/plain": [
       "[(1, -1.349808787495403, 6074143.5437293136, 6074168.796610862),\n (2, -0.16352232973647432, 735860.4838141345, 735923.61601800541),\n (3, 0.2106959228959403, -948115.65303173137, -948014.6415055379),\n (4, 0.63413533432107461, -2853587.0044448357, -2853448.1135963197),\n (5, 0.65035754820199487, -2926580.9669089769, -2926404.1967381383),\n (6, 0.86345505427588054, -3885513.7442414626, -3885299.0947483014),\n (7, 0.79605181388766111, -3582193.162494475, -3581940.6336789913),\n (8, 0.8646548225404691, -3890900.7014321107, -3890610.2932943045),\n (9, 0.88927691745299919, -4001694.1285384963, -4001365.8410783675)]"
      ]
     },
     "execution_count": 31,
     "metadata": {},
     "output_type": "execute_result"
    }
   ],
   "source": [
    "results"
   ]
  },
  {
   "cell_type": "code",
   "execution_count": 22,
   "metadata": {},
   "outputs": [
    {
     "data": {
      "text/plain": [
       "(array([[ 0.,  0.,  0., ...,  0.,  0.,  0.],\n        [ 0.,  0.,  0., ...,  0.,  0.,  0.],\n        [ 0.,  0.,  0., ...,  0.,  0.,  0.],\n        ..., \n        [ 0.,  0.,  0., ...,  0.,  0.,  0.],\n        [ 0.,  0.,  0., ...,  0.,  0.,  0.],\n        [ 0.,  0.,  0., ...,  0.,  0.,  0.]]),\n array([-1.5826096 , -1.52876103, -1.47491246, -1.42106389, -1.36721532,\n        -1.31336675, -1.25951818, -1.20566961, -1.15182104, -1.09797247,\n        -1.0441239 , -0.99027533, -0.93642676, -0.88257819, -0.82872962,\n        -0.77488105, -0.72103248, -0.66718391, -0.61333534, -0.55948677,\n        -0.5056382 , -0.45178963, -0.39794106, -0.34409249, -0.29024392,\n        -0.23639535, -0.18254678, -0.12869821, -0.07484964, -0.02100107,\n         0.0328475 ,  0.08669607,  0.14054464,  0.19439321,  0.24824178,\n         0.30209035,  0.35593892,  0.40978749,  0.46363606,  0.51748463,\n         0.5713332 ,  0.62518177,  0.67903034,  0.73287891,  0.78672748,\n         0.84057605,  0.89442462,  0.94827319,  1.00212176,  1.05597033,\n         1.1098189 ]),\n array([-5.68882119, -5.59009498, -5.49136877, -5.39264256, -5.29391635,\n        -5.19519014, -5.09646393, -4.99773772, -4.89901151, -4.8002853 ,\n        -4.70155909, -4.60283288, -4.50410667, -4.40538046, -4.30665425,\n        -4.20792804, -4.10920183, -4.01047562, -3.91174941, -3.8130232 ,\n        -3.71429699, -3.61557078, -3.51684457, -3.41811836, -3.31939216,\n        -3.22066595, -3.12193974, -3.02321353, -2.92448732, -2.82576111,\n        -2.7270349 , -2.62830869, -2.52958248, -2.43085627, -2.33213006,\n        -2.23340385, -2.13467764, -2.03595143, -1.93722522, -1.83849901,\n        -1.7397728 , -1.64104659, -1.54232038, -1.44359417, -1.34486796,\n        -1.24614175, -1.14741554, -1.04868933, -0.94996312, -0.85123691,\n        -0.7525107 ]),\n <matplotlib.image.AxesImage at 0x7f7e55ef8dd8>)"
      ]
     },
     "execution_count": 22,
     "metadata": {},
     "output_type": "execute_result"
    },
    {
     "data": {
      "image/png": "[encoded data removed]",
      "text/plain": [
       "<matplotlib.figure.Figure at 0x7f7e55efc7f0>"
      ]
     },
     "metadata": {},
     "output_type": "display_data"
    }
   ],
   "source": [
    "plt.hist2d(model.encoder.encode(data)[0].squeeze(1), model.encoder.encode(data)[1].squeeze(1), bins=50)"
   ]
  },
  {
   "cell_type": "code",
   "execution_count": null,
   "metadata": {},
   "outputs": [],
   "source": []
  },
  {
   "cell_type": "code",
   "execution_count": null,
   "metadata": {},
   "outputs": [],
   "source": []
  },
  {
   "cell_type": "code",
   "execution_count": null,
   "metadata": {},
   "outputs": [],
   "source": []
  },
  {
   "cell_type": "code",
   "execution_count": null,
   "metadata": {},
   "outputs": [],
   "source": []
  }
 ],
 "metadata": {
  "kernelspec": {
   "display_name": "Python 2",
   "language": "python",
   "name": "python2"
  },
  "language_info": {
   "codemirror_mode": {
    "name": "ipython",
    "version": 2
   },
   "file_extension": ".py",
   "mimetype": "text/x-python",
   "name": "python",
   "nbconvert_exporter": "python",
   "pygments_lexer": "ipython2",
   "version": "2.7.6"
  }
 },
 "nbformat": 4,
 "nbformat_minor": 0
}
